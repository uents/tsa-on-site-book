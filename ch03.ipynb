{
 "cells": [
  {
   "cell_type": "markdown",
   "metadata": {},
   "source": [
    "# §3 時系列データの時間依存と自己回帰モデル"
   ]
  },
  {
   "cell_type": "code",
   "execution_count": 1,
   "metadata": {
    "collapsed": false
   },
   "outputs": [],
   "source": [
    "from __future__ import unicode_literals\n",
    "from __future__ import print_function\n",
    "import six\n",
    "import sys\n",
    "import os\n",
    "import math\n",
    "import numpy as np\n",
    "import scipy\n",
    "import pandas as pd\n",
    "import matplotlib.pyplot as plt\n",
    "import seaborn as sns\n",
    "import pyper\n",
    "\n",
    "%matplotlib inline\n",
    "sns.set_style('whitegrid')\n",
    "plt.rcParams['font.family'] = 'IPAexGothic'"
   ]
  },
  {
   "cell_type": "code",
   "execution_count": 2,
   "metadata": {
    "collapsed": false
   },
   "outputs": [
    {
     "data": {
      "text/plain": [
       "'2.7.13 |Anaconda 4.3.1 (x86_64)| (default, Dec 20 2016, 23:05:08) \\n[GCC 4.2.1 Compatible Apple LLVM 6.0 (clang-600.0.57)]'"
      ]
     },
     "execution_count": 2,
     "metadata": {},
     "output_type": "execute_result"
    }
   ],
   "source": [
    "sys.version"
   ]
  },
  {
   "cell_type": "markdown",
   "metadata": {},
   "source": [
    "## 演習用のデータをロード"
   ]
  },
  {
   "cell_type": "code",
   "execution_count": 3,
   "metadata": {
    "collapsed": true
   },
   "outputs": [],
   "source": [
    "r = pyper.R(use_numpy='True', use_pandas='True')"
   ]
  },
  {
   "cell_type": "code",
   "execution_count": 4,
   "metadata": {
    "collapsed": false
   },
   "outputs": [
    {
     "data": {
      "text/plain": [
       "'try({load(\"./cache/data.RData\")})\\n'"
      ]
     },
     "execution_count": 4,
     "metadata": {},
     "output_type": "execute_result"
    }
   ],
   "source": [
    "r('load(\"./cache/data.RData\")')"
   ]
  },
  {
   "cell_type": "markdown",
   "metadata": {},
   "source": [
    "## §3-1 時間依存の表現"
   ]
  },
  {
   "cell_type": "code",
   "execution_count": 5,
   "metadata": {
    "collapsed": true
   },
   "outputs": [],
   "source": [
    "from statsmodels.tsa.stattools import acf"
   ]
  },
  {
   "cell_type": "code",
   "execution_count": 6,
   "metadata": {
    "collapsed": true
   },
   "outputs": [],
   "source": [
    "df_xprice  = pd.DataFrame(r.get('X.price'),  columns={'X.price'})\n",
    "df_xreturn = pd.DataFrame(r.get('X.return'), columns={'X.return'})\n",
    "df_yprice  = pd.DataFrame(r.get('Y.price'),  columns={'Y.price'})\n",
    "df_yreturn = pd.DataFrame(r.get('Y.return'), columns={'Y.return'})"
   ]
  },
  {
   "cell_type": "markdown",
   "metadata": {},
   "source": [
    "### 自己相関係数について\n",
    "\n",
    "Xは1時点ずらし(lag=1)の相関係数で0.63。Yは0.023"
   ]
  },
  {
   "cell_type": "code",
   "execution_count": 7,
   "metadata": {
    "collapsed": false
   },
   "outputs": [
    {
     "data": {
      "text/plain": [
       "(array([ 1.        ,  0.63097735,  0.51663365,  0.44953328,  0.32406794]),\n",
       " array([ 1.        ,  0.02343057, -0.21150287,  0.01051351,  0.11402679]))"
      ]
     },
     "execution_count": 7,
     "metadata": {},
     "output_type": "execute_result"
    }
   ],
   "source": [
    "acf(df_xreturn.values, nlags=4), acf(df_yreturn.values, nlags=4)"
   ]
  },
  {
   "cell_type": "markdown",
   "metadata": {},
   "source": [
    "### lag=1の散布図を表示\n",
    "\n",
    "Xの収益率は正の相関が現れている"
   ]
  },
  {
   "cell_type": "code",
   "execution_count": 8,
   "metadata": {
    "collapsed": false
   },
   "outputs": [
    {
     "data": {
      "text/plain": [
       "<matplotlib.collections.PathCollection at 0x11ca14b10>"
      ]
     },
     "execution_count": 8,
     "metadata": {},
     "output_type": "execute_result"
    },
    {
     "data": {
      "image/png": "[encoded data removed]",
      "text/plain": [
       "<matplotlib.figure.Figure at 0x119217190>"
      ]
     },
     "metadata": {},
     "output_type": "display_data"
    }
   ],
   "source": [
    "fig, axes = plt.subplots(nrows=1, ncols=2, figsize=(12, 6))\n",
    "axes[0].scatter(df_xreturn[0:-2].values, df_xreturn[1:-1].values)\n",
    "axes[1].scatter(df_yreturn[0:-2].values, df_yreturn[1:-1].values)"
   ]
  },
  {
   "cell_type": "markdown",
   "metadata": {},
   "source": [
    "### 収益率の偏自己相関係数をプロット (コレログラム)"
   ]
  },
  {
   "cell_type": "code",
   "execution_count": 9,
   "metadata": {
    "collapsed": false
   },
   "outputs": [
    {
     "data": {
      "text/plain": [
       "<matplotlib.text.Text at 0x11cd08550>"
      ]
     },
     "execution_count": 9,
     "metadata": {},
     "output_type": "execute_result"
    },
    {
     "data": {
      "image/png": "[encoded data removed]",
      "text/plain": [
       "<matplotlib.figure.Figure at 0x11cbd0550>"
      ]
     },
     "metadata": {},
     "output_type": "display_data"
    }
   ],
   "source": [
    "fig, axes = plt.subplots(nrows=1, ncols=2, figsize=(12, 4))\n",
    "[ax.set_xlabel('Lag') for ax in axes]\n",
    "[ax.set_ylabel('ACF') for ax in axes]\n",
    "\n",
    "acf_xreturn = acf(df_xreturn.values, nlags=20)\n",
    "axes[0].bar(range(len(acf_xreturn)), acf_xreturn, width=0.5)\n",
    "axes[0].set_title('Series X.return')\n",
    "\n",
    "acf_yreturn = acf(df_yreturn.values, nlags=20)\n",
    "axes[1].bar(range(len(acf_yreturn)), acf_yreturn, width=0.5)\n",
    "axes[1].set_title('Series Y.return')"
   ]
  },
  {
   "cell_type": "markdown",
   "metadata": {},
   "source": [
    "### Ljung-Box検定\n",
    "\n",
    "- https://ja.wikipedia.org/wiki/%E3%83%AA%E3%83%A5%E3%83%B3%E3%82%B0%E3%83%BB%E3%83%9C%E3%83%83%E3%82%AF%E3%82%B9%E6%A4%9C%E5%AE%9A\n",
    "- 帰無仮説は「データは無作為である」=「自己相関関係を有していない」\n",
    "- ここでは有意水準を10%以上とする"
   ]
  },
  {
   "cell_type": "markdown",
   "metadata": {},
   "source": [
    "Xの収益率はp-val < 0.1となり、帰無仮説が棄却され、自己相関関係が認められる"
   ]
  },
  {
   "cell_type": "code",
   "execution_count": 10,
   "metadata": {
    "collapsed": false
   },
   "outputs": [
    {
     "data": {
      "text/plain": [
       "ac        6.309773e-01\n",
       "q-stat    4.101970e+01\n",
       "p-val     1.507023e-10\n",
       "Name: 0, dtype: float64"
      ]
     },
     "execution_count": 10,
     "metadata": {},
     "output_type": "execute_result"
    }
   ],
   "source": [
    "ac, q, p = acf(df_xreturn.values, nlags=10, qstat=True)\n",
    "\n",
    "df = pd.DataFrame(np.c_[ac[1:], q, p], columns={'ac', 'q-stat', 'p-val'})\n",
    "df.ix[0,:]"
   ]
  },
  {
   "cell_type": "markdown",
   "metadata": {},
   "source": [
    "Yの収益率はp-val < 0.1とはならず、帰無仮説が採用されるため、自己相関関係が認められない"
   ]
  },
  {
   "cell_type": "code",
   "execution_count": 11,
   "metadata": {
    "collapsed": false
   },
   "outputs": [
    {
     "data": {
      "text/plain": [
       "ac        0.023431\n",
       "q-stat    0.056563\n",
       "p-val     0.812013\n",
       "Name: 0, dtype: float64"
      ]
     },
     "execution_count": 11,
     "metadata": {},
     "output_type": "execute_result"
    }
   ],
   "source": [
    "ac, q, p = acf(df_yreturn.values, nlags=10, qstat=True)\n",
    "\n",
    "df = pd.DataFrame(np.c_[ac[1:], q, p], columns={'ac', 'q-stat', 'p-val'})\n",
    "df.ix[0,:]"
   ]
  },
  {
   "cell_type": "markdown",
   "metadata": {},
   "source": [
    "## §3-2 時系列データの性質 〜定常性について〜"
   ]
  },
  {
   "cell_type": "markdown",
   "metadata": {},
   "source": [
    "(弱)定常性を持つための定義。以下の3条件を満たす\n",
    "\n",
    "1. $E(R_{t}) = a$ : 平均が一定\n",
    "2. $Var(R_{t}) = \\gamma_{0}$ : 分散が一定\n",
    "3. $Cov(R_{t}, R_{t-h}) = \\gamma_{h}$ : 自己共分散がラグ$h$のみに依存"
   ]
  },
  {
   "cell_type": "code",
   "execution_count": 12,
   "metadata": {
    "collapsed": false
   },
   "outputs": [
    {
     "data": {
      "text/plain": [
       "(100, 1)"
      ]
     },
     "execution_count": 12,
     "metadata": {},
     "output_type": "execute_result"
    }
   ],
   "source": [
    "rt = df_xreturn.values\n",
    "rt.shape"
   ]
  },
  {
   "cell_type": "code",
   "execution_count": 13,
   "metadata": {
    "collapsed": false
   },
   "outputs": [
    {
     "data": {
      "text/plain": [
       "0.22802922588092248"
      ]
     },
     "execution_count": 13,
     "metadata": {},
     "output_type": "execute_result"
    }
   ],
   "source": [
    "np.mean(rt)"
   ]
  },
  {
   "cell_type": "code",
   "execution_count": 14,
   "metadata": {
    "collapsed": false
   },
   "outputs": [
    {
     "data": {
      "text/plain": [
       "14.180460231676456"
      ]
     },
     "execution_count": 14,
     "metadata": {},
     "output_type": "execute_result"
    }
   ],
   "source": [
    "np.var(rt)"
   ]
  },
  {
   "cell_type": "code",
   "execution_count": 15,
   "metadata": {
    "collapsed": false
   },
   "outputs": [
    {
     "data": {
      "text/plain": [
       "array([ 899.72615945,  735.01613799,  644.50945155,  462.25057899,\n",
       "        421.47724413,  410.32183167,  223.96624365,   84.74534808,\n",
       "        147.70289213,  183.20615838,  100.315051  ,  164.06005034,\n",
       "         69.21532928, -126.40147096,   31.93950038,  -37.49600857,\n",
       "        -21.68298114,   34.50394968,  -15.40289661,  -36.61787087,\n",
       "        129.75824481,  128.52371909,  176.99457369,  136.83594487,\n",
       "         55.77310966, -167.40399002, -169.90267955, -145.31192258,\n",
       "       -207.65723338, -152.04018327, -148.06075297, -263.53787079,\n",
       "       -212.00496845, -113.64262926, -164.47622134, -201.60675377,\n",
       "       -235.49373707, -247.52898447, -302.03310255, -173.84298576,\n",
       "       -143.78694669, -198.13806754, -151.742206  , -128.04200487,\n",
       "       -149.74193732,   -6.91806223,  -55.72137404, -136.69843034,\n",
       "       -152.60955698, -164.84025184, -126.87016274,  -86.18025705,\n",
       "        -63.40297494, -113.02857328,  -94.47507942,  -68.80205207,\n",
       "       -169.53806388, -123.48695582, -139.65027676, -275.95536003,\n",
       "       -218.28991105, -193.94255322, -225.79864012, -172.12545925,\n",
       "        -90.47456309, -102.60977442,  -26.52490961,    9.59845254,\n",
       "         29.21308414,   79.62839122,  155.41674643,  119.42385939,\n",
       "        103.09801516,  165.45931181,  139.43659711,  150.77754991,\n",
       "        152.98656818,   72.82699147,   76.86868438,   68.94733361,\n",
       "         13.1753177 ,   17.07659519,  -31.91947111,  -30.60083681,\n",
       "        -38.69024424,  -10.01276077,  -44.29670017,  -25.16762892,\n",
       "         -9.1942282 ,  -28.42096386,  -24.67100206,   -9.16169122,\n",
       "        -19.61929642,  -12.61156043,    4.1190544 ,  -15.80435879,\n",
       "          3.78642213,    3.84804257])"
      ]
     },
     "execution_count": 15,
     "metadata": {},
     "output_type": "execute_result"
    }
   ],
   "source": [
    "cor = np.correlate(rt.ravel()[1:-1], rt.ravel()[0:-2], mode='full')\n",
    "cor[cor.size/2:]"
   ]
  },
  {
   "cell_type": "code",
   "execution_count": 16,
   "metadata": {
    "collapsed": false
   },
   "outputs": [
    {
     "data": {
      "text/plain": [
       "[<matplotlib.lines.Line2D at 0x11d00d350>]"
      ]
     },
     "execution_count": 16,
     "metadata": {},
     "output_type": "execute_result"
    },
    {
     "data": {
      "image/png": "[encoded data removed]",
      "text/plain": [
       "<matplotlib.figure.Figure at 0x119588990>"
      ]
     },
     "metadata": {},
     "output_type": "display_data"
    }
   ],
   "source": [
    "plt.plot(cor[cor.size/2:])"
   ]
  },
  {
   "cell_type": "markdown",
   "metadata": {},
   "source": [
    "## §3-3 自己回帰モデルの導入"
   ]
  },
  {
   "cell_type": "code",
   "execution_count": 17,
   "metadata": {
    "collapsed": true
   },
   "outputs": [],
   "source": [
    "from statsmodels.tsa.ar_model import AR"
   ]
  },
  {
   "cell_type": "code",
   "execution_count": 18,
   "metadata": {
    "collapsed": false
   },
   "outputs": [],
   "source": [
    "ar_x = AR(df_xreturn.values)\n",
    "res_x = ar_x.fit(ic='aic', maxlag=1)"
   ]
  },
  {
   "cell_type": "code",
   "execution_count": 19,
   "metadata": {
    "collapsed": false
   },
   "outputs": [
    {
     "data": {
      "text/plain": [
       "(array([ 0.11398896,  0.63227205]), 8.4402050554764525)"
      ]
     },
     "execution_count": 19,
     "metadata": {},
     "output_type": "execute_result"
    }
   ],
   "source": [
    "res_x.params, res_x.sigma2"
   ]
  },
  {
   "cell_type": "code",
   "execution_count": 20,
   "metadata": {
    "collapsed": false
   },
   "outputs": [],
   "source": [
    "ar_y = AR(df_yreturn.values)\n",
    "res_y = ar_y.fit(ic='aic', maxlag=1)"
   ]
  },
  {
   "cell_type": "code",
   "execution_count": 21,
   "metadata": {
    "collapsed": false
   },
   "outputs": [
    {
     "data": {
      "text/plain": [
       "(array([ 0.19506769,  0.02342876]), 14.238145768073259)"
      ]
     },
     "execution_count": 21,
     "metadata": {},
     "output_type": "execute_result"
    }
   ],
   "source": [
    "res_y.params, res_y.sigma2"
   ]
  },
  {
   "cell_type": "markdown",
   "metadata": {},
   "source": [
    "## §3-4 単位根過程について\n",
    "\n",
    "- 自己回帰係数が $\\phi_{1} = 1$ となる時系列を**単位根**をもつ時系列という\n",
    "- 切片を $0$ とし単位根をもつ時系列は $R_{t} = R_{t-1} + \\epsilon_{t}$ となり、差分の形は $\\Delta R_{t} = \\epsilon_{t}$ とホワイトノイズになる。このような系列を**ランダムウォーク**という"
   ]
  },
  {
   "cell_type": "markdown",
   "metadata": {},
   "source": [
    "### Dickey-Fuller検定\n",
    "\n",
    "- テキストで紹介しているのは「拡張ディッキー-フラー検定」のよう\n",
    "- https://ja.wikipedia.org/wiki/%E6%8B%A1%E5%BC%B5%E3%83%87%E3%82%A3%E3%83%83%E3%82%AD%E3%83%BC%E2%80%93%E3%83%95%E3%83%A9%E3%83%BC%E6%A4%9C%E5%AE%9A\n",
    "- 帰無仮説は「データ系列に単位根が存在する」\n",
    "- ここでの有意水準を10%以上とする"
   ]
  },
  {
   "cell_type": "code",
   "execution_count": 22,
   "metadata": {
    "collapsed": false
   },
   "outputs": [],
   "source": [
    "from statsmodels.tsa.stattools import adfuller"
   ]
  },
  {
   "cell_type": "code",
   "execution_count": 23,
   "metadata": {
    "collapsed": false
   },
   "outputs": [
    {
     "data": {
      "text/plain": [
       "Index([u'x5202', u'x7272', u'x4927', u'x4502'], dtype='object')"
      ]
     },
     "execution_count": 23,
     "metadata": {},
     "output_type": "execute_result"
    }
   ],
   "source": [
    "df_price = pd.DataFrame(r.get('price4'))\n",
    "\n",
    "df_price.rename(columns={' x5202 ': 'x5202',\n",
    "                         ' x7272 ': 'x7272',\n",
    "                         ' x4927 ': 'x4927',\n",
    "                         ' x4502 ': 'x4502'},\n",
    "                inplace=True)\n",
    "\n",
    "df_price.columns"
   ]
  },
  {
   "cell_type": "code",
   "execution_count": 24,
   "metadata": {
    "collapsed": false
   },
   "outputs": [
    {
     "data": {
      "text/plain": [
       "Index([u'x5202', u'x7272', u'x4927', u'x4502'], dtype='object')"
      ]
     },
     "execution_count": 24,
     "metadata": {},
     "output_type": "execute_result"
    }
   ],
   "source": [
    "df_return = pd.DataFrame(r.get('return4'))\n",
    "\n",
    "df_return.rename(columns={' x5202 ': 'x5202',\n",
    "                         ' x7272 ': 'x7272',\n",
    "                         ' x4927 ': 'x4927',\n",
    "                         ' x4502 ': 'x4502'},\n",
    "                inplace=True)\n",
    "\n",
    "df_return.columns"
   ]
  },
  {
   "cell_type": "code",
   "execution_count": 25,
   "metadata": {
    "collapsed": false
   },
   "outputs": [
    {
     "data": {
      "text/plain": [
       "(-3.1962061985558967,\n",
       " 0.21062252057679709,\n",
       " 0,\n",
       " 120,\n",
       " {'1%': -4.4703790781250001,\n",
       "  '10%': -3.5841610179398149,\n",
       "  '5%': -3.8825399791666668},\n",
       " 1016.6231016455624)"
      ]
     },
     "execution_count": 25,
     "metadata": {},
     "output_type": "execute_result"
    }
   ],
   "source": [
    "# 1番目の返り値がadf値、2番目がp-value。帰無仮説は棄却できない\n",
    "# regressionに何を採用すべきかいまいち不明...\n",
    "\n",
    "adfuller(df_price['x7272'].values, regression='ctt')"
   ]
  },
  {
   "cell_type": "code",
   "execution_count": 26,
   "metadata": {
    "collapsed": false
   },
   "outputs": [
    {
     "ename": "TypeError",
     "evalue": "ufunc 'ndtr' not supported for the input types, and the inputs could not be safely coerced to any supported types according to the casting rule ''safe''",
     "output_type": "error",
     "traceback": [
      "\u001b[0;31m---------------------------------------------------------------------------\u001b[0m",
      "\u001b[0;31mTypeError\u001b[0m                                 Traceback (most recent call last)",
      "\u001b[0;32m<ipython-input-26-042e469fc668>\u001b[0m in \u001b[0;36m<module>\u001b[0;34m()\u001b[0m\n\u001b[1;32m      1\u001b[0m \u001b[0;31m# TypeErrorが発生して検定に失敗する\u001b[0m\u001b[0;34m\u001b[0m\u001b[0;34m\u001b[0m\u001b[0m\n\u001b[1;32m      2\u001b[0m \u001b[0;34m\u001b[0m\u001b[0m\n\u001b[0;32m----> 3\u001b[0;31m \u001b[0madfuller\u001b[0m\u001b[0;34m(\u001b[0m\u001b[0mdf_return\u001b[0m\u001b[0;34m[\u001b[0m\u001b[0;34m'x7272'\u001b[0m\u001b[0;34m]\u001b[0m\u001b[0;34m.\u001b[0m\u001b[0mvalues\u001b[0m\u001b[0;34m,\u001b[0m \u001b[0mregression\u001b[0m\u001b[0;34m=\u001b[0m\u001b[0;34m'ctt'\u001b[0m\u001b[0;34m)\u001b[0m\u001b[0;34m\u001b[0m\u001b[0m\n\u001b[0m",
      "\u001b[0;32m/Users/uents/.anyenv/envs/pyenv/versions/anaconda2-4.3.0/lib/python2.7/site-packages/statsmodels/tsa/stattools.pyc\u001b[0m in \u001b[0;36madfuller\u001b[0;34m(x, maxlag, regression, autolag, store, regresults)\u001b[0m\n\u001b[1;32m    261\u001b[0m \u001b[0;34m\u001b[0m\u001b[0m\n\u001b[1;32m    262\u001b[0m     \u001b[0;31m# Get approx p-value and critical values\u001b[0m\u001b[0;34m\u001b[0m\u001b[0;34m\u001b[0m\u001b[0m\n\u001b[0;32m--> 263\u001b[0;31m     \u001b[0mpvalue\u001b[0m \u001b[0;34m=\u001b[0m \u001b[0mmackinnonp\u001b[0m\u001b[0;34m(\u001b[0m\u001b[0madfstat\u001b[0m\u001b[0;34m,\u001b[0m \u001b[0mregression\u001b[0m\u001b[0;34m=\u001b[0m\u001b[0mregression\u001b[0m\u001b[0;34m,\u001b[0m \u001b[0mN\u001b[0m\u001b[0;34m=\u001b[0m\u001b[0;36m1\u001b[0m\u001b[0;34m)\u001b[0m\u001b[0;34m\u001b[0m\u001b[0m\n\u001b[0m\u001b[1;32m    264\u001b[0m     \u001b[0mcritvalues\u001b[0m \u001b[0;34m=\u001b[0m \u001b[0mmackinnoncrit\u001b[0m\u001b[0;34m(\u001b[0m\u001b[0mN\u001b[0m\u001b[0;34m=\u001b[0m\u001b[0;36m1\u001b[0m\u001b[0;34m,\u001b[0m \u001b[0mregression\u001b[0m\u001b[0;34m=\u001b[0m\u001b[0mregression\u001b[0m\u001b[0;34m,\u001b[0m \u001b[0mnobs\u001b[0m\u001b[0;34m=\u001b[0m\u001b[0mnobs\u001b[0m\u001b[0;34m)\u001b[0m\u001b[0;34m\u001b[0m\u001b[0m\n\u001b[1;32m    265\u001b[0m     critvalues = {\"1%\" : critvalues[0], \"5%\" : critvalues[1],\n",
      "\u001b[0;32m/Users/uents/.anyenv/envs/pyenv/versions/anaconda2-4.3.0/lib/python2.7/site-packages/statsmodels/tsa/adfvalues.pyc\u001b[0m in \u001b[0;36mmackinnonp\u001b[0;34m(teststat, regression, N, lags)\u001b[0m\n\u001b[1;32m    215\u001b[0m     \u001b[0;32melse\u001b[0m\u001b[0;34m:\u001b[0m\u001b[0;34m\u001b[0m\u001b[0m\n\u001b[1;32m    216\u001b[0m         \u001b[0mtau_coef\u001b[0m \u001b[0;34m=\u001b[0m \u001b[0meval\u001b[0m\u001b[0;34m(\u001b[0m\u001b[0;34m\"tau_\"\u001b[0m \u001b[0;34m+\u001b[0m \u001b[0mregression\u001b[0m \u001b[0;34m+\u001b[0m \u001b[0;34m\"_largep[\"\u001b[0m\u001b[0;34m+\u001b[0m\u001b[0mstr\u001b[0m\u001b[0;34m(\u001b[0m\u001b[0mN\u001b[0m\u001b[0;34m-\u001b[0m\u001b[0;36m1\u001b[0m\u001b[0;34m)\u001b[0m\u001b[0;34m+\u001b[0m\u001b[0;34m\"]\"\u001b[0m\u001b[0;34m)\u001b[0m\u001b[0;34m\u001b[0m\u001b[0m\n\u001b[0;32m--> 217\u001b[0;31m     \u001b[0;32mreturn\u001b[0m \u001b[0mnorm\u001b[0m\u001b[0;34m.\u001b[0m\u001b[0mcdf\u001b[0m\u001b[0;34m(\u001b[0m\u001b[0mpolyval\u001b[0m\u001b[0;34m(\u001b[0m\u001b[0mtau_coef\u001b[0m\u001b[0;34m[\u001b[0m\u001b[0;34m:\u001b[0m\u001b[0;34m:\u001b[0m\u001b[0;34m-\u001b[0m\u001b[0;36m1\u001b[0m\u001b[0;34m]\u001b[0m\u001b[0;34m,\u001b[0m \u001b[0mteststat\u001b[0m\u001b[0;34m)\u001b[0m\u001b[0;34m)\u001b[0m\u001b[0;34m\u001b[0m\u001b[0m\n\u001b[0m\u001b[1;32m    218\u001b[0m \u001b[0;34m\u001b[0m\u001b[0m\n\u001b[1;32m    219\u001b[0m \u001b[0;31m# These are the new estimates from MacKinnon 2010\u001b[0m\u001b[0;34m\u001b[0m\u001b[0;34m\u001b[0m\u001b[0m\n",
      "\u001b[0;32m/Users/uents/.anyenv/envs/pyenv/versions/anaconda2-4.3.0/lib/python2.7/site-packages/scipy/stats/_distn_infrastructure.pyc\u001b[0m in \u001b[0;36mcdf\u001b[0;34m(self, x, *args, **kwds)\u001b[0m\n\u001b[1;32m   1736\u001b[0m         \u001b[0;32mif\u001b[0m \u001b[0mnp\u001b[0m\u001b[0;34m.\u001b[0m\u001b[0many\u001b[0m\u001b[0;34m(\u001b[0m\u001b[0mcond\u001b[0m\u001b[0;34m)\u001b[0m\u001b[0;34m:\u001b[0m  \u001b[0;31m# call only if at least 1 entry\u001b[0m\u001b[0;34m\u001b[0m\u001b[0m\n\u001b[1;32m   1737\u001b[0m             \u001b[0mgoodargs\u001b[0m \u001b[0;34m=\u001b[0m \u001b[0margsreduce\u001b[0m\u001b[0;34m(\u001b[0m\u001b[0mcond\u001b[0m\u001b[0;34m,\u001b[0m \u001b[0;34m*\u001b[0m\u001b[0;34m(\u001b[0m\u001b[0;34m(\u001b[0m\u001b[0mx\u001b[0m\u001b[0;34m,\u001b[0m\u001b[0;34m)\u001b[0m\u001b[0;34m+\u001b[0m\u001b[0margs\u001b[0m\u001b[0;34m)\u001b[0m\u001b[0;34m)\u001b[0m\u001b[0;34m\u001b[0m\u001b[0m\n\u001b[0;32m-> 1738\u001b[0;31m             \u001b[0mplace\u001b[0m\u001b[0;34m(\u001b[0m\u001b[0moutput\u001b[0m\u001b[0;34m,\u001b[0m \u001b[0mcond\u001b[0m\u001b[0;34m,\u001b[0m \u001b[0mself\u001b[0m\u001b[0;34m.\u001b[0m\u001b[0m_cdf\u001b[0m\u001b[0;34m(\u001b[0m\u001b[0;34m*\u001b[0m\u001b[0mgoodargs\u001b[0m\u001b[0;34m)\u001b[0m\u001b[0;34m)\u001b[0m\u001b[0;34m\u001b[0m\u001b[0m\n\u001b[0m\u001b[1;32m   1739\u001b[0m         \u001b[0;32mif\u001b[0m \u001b[0moutput\u001b[0m\u001b[0;34m.\u001b[0m\u001b[0mndim\u001b[0m \u001b[0;34m==\u001b[0m \u001b[0;36m0\u001b[0m\u001b[0;34m:\u001b[0m\u001b[0;34m\u001b[0m\u001b[0m\n\u001b[1;32m   1740\u001b[0m             \u001b[0;32mreturn\u001b[0m \u001b[0moutput\u001b[0m\u001b[0;34m[\u001b[0m\u001b[0;34m(\u001b[0m\u001b[0;34m)\u001b[0m\u001b[0;34m]\u001b[0m\u001b[0;34m\u001b[0m\u001b[0m\n",
      "\u001b[0;32m/Users/uents/.anyenv/envs/pyenv/versions/anaconda2-4.3.0/lib/python2.7/site-packages/scipy/stats/_continuous_distns.pyc\u001b[0m in \u001b[0;36m_cdf\u001b[0;34m(self, x)\u001b[0m\n\u001b[1;32m    134\u001b[0m \u001b[0;34m\u001b[0m\u001b[0m\n\u001b[1;32m    135\u001b[0m     \u001b[0;32mdef\u001b[0m \u001b[0m_cdf\u001b[0m\u001b[0;34m(\u001b[0m\u001b[0mself\u001b[0m\u001b[0;34m,\u001b[0m \u001b[0mx\u001b[0m\u001b[0;34m)\u001b[0m\u001b[0;34m:\u001b[0m\u001b[0;34m\u001b[0m\u001b[0m\n\u001b[0;32m--> 136\u001b[0;31m         \u001b[0;32mreturn\u001b[0m \u001b[0m_norm_cdf\u001b[0m\u001b[0;34m(\u001b[0m\u001b[0mx\u001b[0m\u001b[0;34m)\u001b[0m\u001b[0;34m\u001b[0m\u001b[0m\n\u001b[0m\u001b[1;32m    137\u001b[0m \u001b[0;34m\u001b[0m\u001b[0m\n\u001b[1;32m    138\u001b[0m     \u001b[0;32mdef\u001b[0m \u001b[0m_logcdf\u001b[0m\u001b[0;34m(\u001b[0m\u001b[0mself\u001b[0m\u001b[0;34m,\u001b[0m \u001b[0mx\u001b[0m\u001b[0;34m)\u001b[0m\u001b[0;34m:\u001b[0m\u001b[0;34m\u001b[0m\u001b[0m\n",
      "\u001b[0;31mTypeError\u001b[0m: ufunc 'ndtr' not supported for the input types, and the inputs could not be safely coerced to any supported types according to the casting rule ''safe''"
     ]
    }
   ],
   "source": [
    "# TypeErrorが発生して検定に失敗する\n",
    "\n",
    "adfuller(df_return['x7272'].values, regression='ctt')"
   ]
  },
  {
   "cell_type": "code",
   "execution_count": null,
   "metadata": {
    "collapsed": true
   },
   "outputs": [],
   "source": []
  },
  {
   "cell_type": "code",
   "execution_count": null,
   "metadata": {
    "collapsed": true
   },
   "outputs": [],
   "source": []
  },
  {
   "cell_type": "code",
   "execution_count": null,
   "metadata": {
    "collapsed": true
   },
   "outputs": [],
   "source": []
  }
 ],
 "metadata": {
  "kernelspec": {
   "display_name": "Python 2",
   "language": "python",
   "name": "python2"
  },
  "language_info": {
   "codemirror_mode": {
    "name": "ipython",
    "version": 2
   },
   "file_extension": ".py",
   "mimetype": "text/x-python",
   "name": "python",
   "nbconvert_exporter": "python",
   "pygments_lexer": "ipython2",
   "version": "2.7.13"
  }
 },
 "nbformat": 4,
 "nbformat_minor": 2
}
